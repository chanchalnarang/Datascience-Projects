import pandas as pd
TurbineData=pd.read_csv('Turbine_Data.csv')
Turbine_df=pd.DataFrame(TurbineData)
df=Turbine_df.dropna()
print(df.isna())         
print(df.columns)
#Unnamed is Index 

